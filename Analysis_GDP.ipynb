{
 "cells": [
  {
   "cell_type": "code",
   "execution_count": 65,
   "id": "18577202-4523-41a8-8a03-439fffb715f0",
   "metadata": {},
   "outputs": [],
   "source": [
    "import numpy as np\n",
    "import pandas as pd\n",
    "import matplotlib.pyplot as plt"
   ]
  },
  {
   "cell_type": "code",
   "execution_count": 5,
   "id": "30ca19e2-fef6-45cf-a038-2b5825e965c5",
   "metadata": {},
   "outputs": [],
   "source": [
    "#Loading dataset\n",
    "df = pd.read_csv(\"GDP_dataset2020-2025.csv\")"
   ]
  },
  {
   "cell_type": "code",
   "execution_count": 7,
   "id": "79d7a11c-01f7-446c-b89b-7199cbfbd983",
   "metadata": {},
   "outputs": [
    {
     "data": {
      "text/html": [
       "<div>\n",
       "<style scoped>\n",
       "    .dataframe tbody tr th:only-of-type {\n",
       "        vertical-align: middle;\n",
       "    }\n",
       "\n",
       "    .dataframe tbody tr th {\n",
       "        vertical-align: top;\n",
       "    }\n",
       "\n",
       "    .dataframe thead th {\n",
       "        text-align: right;\n",
       "    }\n",
       "</style>\n",
       "<table border=\"1\" class=\"dataframe\">\n",
       "  <thead>\n",
       "    <tr style=\"text-align: right;\">\n",
       "      <th></th>\n",
       "      <th>Country</th>\n",
       "      <th>2020</th>\n",
       "      <th>2021</th>\n",
       "      <th>2022</th>\n",
       "      <th>2023</th>\n",
       "      <th>2024</th>\n",
       "      <th>2025</th>\n",
       "    </tr>\n",
       "  </thead>\n",
       "  <tbody>\n",
       "    <tr>\n",
       "      <th>0</th>\n",
       "      <td>Afghanistan</td>\n",
       "      <td>20136</td>\n",
       "      <td>14278.0</td>\n",
       "      <td>14501.0</td>\n",
       "      <td>17248.0</td>\n",
       "      <td>NaN</td>\n",
       "      <td>NaN</td>\n",
       "    </tr>\n",
       "    <tr>\n",
       "      <th>1</th>\n",
       "      <td>Albania</td>\n",
       "      <td>15271</td>\n",
       "      <td>18086.0</td>\n",
       "      <td>19185.0</td>\n",
       "      <td>23388.0</td>\n",
       "      <td>27259.0</td>\n",
       "      <td>28372.0</td>\n",
       "    </tr>\n",
       "    <tr>\n",
       "      <th>2</th>\n",
       "      <td>Algeria</td>\n",
       "      <td>164774</td>\n",
       "      <td>185850.0</td>\n",
       "      <td>225709.0</td>\n",
       "      <td>247789.0</td>\n",
       "      <td>264913.0</td>\n",
       "      <td>268885.0</td>\n",
       "    </tr>\n",
       "    <tr>\n",
       "      <th>3</th>\n",
       "      <td>Andorra</td>\n",
       "      <td>2885</td>\n",
       "      <td>3325.0</td>\n",
       "      <td>3376.0</td>\n",
       "      <td>3786.0</td>\n",
       "      <td>4038.0</td>\n",
       "      <td>4035.0</td>\n",
       "    </tr>\n",
       "    <tr>\n",
       "      <th>4</th>\n",
       "      <td>Angola</td>\n",
       "      <td>66521</td>\n",
       "      <td>84375.0</td>\n",
       "      <td>142442.0</td>\n",
       "      <td>109764.0</td>\n",
       "      <td>115946.0</td>\n",
       "      <td>113343.0</td>\n",
       "    </tr>\n",
       "  </tbody>\n",
       "</table>\n",
       "</div>"
      ],
      "text/plain": [
       "       Country    2020      2021      2022      2023      2024      2025\n",
       "0  Afghanistan   20136   14278.0   14501.0   17248.0       NaN       NaN\n",
       "1      Albania   15271   18086.0   19185.0   23388.0   27259.0   28372.0\n",
       "2      Algeria  164774  185850.0  225709.0  247789.0  264913.0  268885.0\n",
       "3      Andorra    2885    3325.0    3376.0    3786.0    4038.0    4035.0\n",
       "4       Angola   66521   84375.0  142442.0  109764.0  115946.0  113343.0"
      ]
     },
     "execution_count": 7,
     "metadata": {},
     "output_type": "execute_result"
    }
   ],
   "source": [
    "df.head(5)"
   ]
  },
  {
   "cell_type": "code",
   "execution_count": 11,
   "id": "9b6561ce-3d4e-45e3-85a6-e02992782123",
   "metadata": {},
   "outputs": [
    {
     "data": {
      "text/plain": [
       "(196, 7)"
      ]
     },
     "execution_count": 11,
     "metadata": {},
     "output_type": "execute_result"
    }
   ],
   "source": [
    "df.shape"
   ]
  },
  {
   "cell_type": "code",
   "execution_count": 13,
   "id": "0df1569e-2a80-41a4-8c8b-f95bcb3d7056",
   "metadata": {},
   "outputs": [
    {
     "data": {
      "text/plain": [
       "Index(['Country', '2020', '2021', '2022', '2023', '2024', '2025'], dtype='object')"
      ]
     },
     "execution_count": 13,
     "metadata": {},
     "output_type": "execute_result"
    }
   ],
   "source": [
    "df.columns"
   ]
  },
  {
   "cell_type": "code",
   "execution_count": 15,
   "id": "71acc734-8b4a-4210-a349-eda793f6ac93",
   "metadata": {},
   "outputs": [
    {
     "data": {
      "text/plain": [
       "Country     object\n",
       "2020         int64\n",
       "2021       float64\n",
       "2022       float64\n",
       "2023       float64\n",
       "2024       float64\n",
       "2025       float64\n",
       "dtype: object"
      ]
     },
     "execution_count": 15,
     "metadata": {},
     "output_type": "execute_result"
    }
   ],
   "source": [
    "df.dtypes"
   ]
  },
  {
   "cell_type": "code",
   "execution_count": 17,
   "id": "31a8fa17-2e64-4f63-9be1-1d9e4369f111",
   "metadata": {},
   "outputs": [
    {
     "data": {
      "text/plain": [
       "Country    0\n",
       "2020       0\n",
       "2021       2\n",
       "2022       2\n",
       "2023       2\n",
       "2024       4\n",
       "2025       7\n",
       "dtype: int64"
      ]
     },
     "execution_count": 17,
     "metadata": {},
     "output_type": "execute_result"
    }
   ],
   "source": [
    "df.isnull().sum()"
   ]
  },
  {
   "cell_type": "code",
   "execution_count": 33,
   "id": "2458c34a-4403-49af-bc99-2ad4fbe98a9e",
   "metadata": {},
   "outputs": [],
   "source": [
    "#Data cleaning"
   ]
  },
  {
   "cell_type": "code",
   "execution_count": 37,
   "id": "ad8f6057-563c-4656-a506-b7b60f3eed54",
   "metadata": {},
   "outputs": [],
   "source": [
    "df.columns = df.columns.str.strip()   # removing spaces"
   ]
  },
  {
   "cell_type": "code",
   "execution_count": 39,
   "id": "c50e82c2-796c-4155-8dc9-eed481ad23ef",
   "metadata": {},
   "outputs": [
    {
     "data": {
      "text/html": [
       "<div>\n",
       "<style scoped>\n",
       "    .dataframe tbody tr th:only-of-type {\n",
       "        vertical-align: middle;\n",
       "    }\n",
       "\n",
       "    .dataframe tbody tr th {\n",
       "        vertical-align: top;\n",
       "    }\n",
       "\n",
       "    .dataframe thead th {\n",
       "        text-align: right;\n",
       "    }\n",
       "</style>\n",
       "<table border=\"1\" class=\"dataframe\">\n",
       "  <thead>\n",
       "    <tr style=\"text-align: right;\">\n",
       "      <th></th>\n",
       "      <th>Country</th>\n",
       "      <th>2020</th>\n",
       "      <th>2021</th>\n",
       "      <th>2022</th>\n",
       "      <th>2023</th>\n",
       "      <th>2024</th>\n",
       "      <th>2025</th>\n",
       "    </tr>\n",
       "  </thead>\n",
       "  <tbody>\n",
       "    <tr>\n",
       "      <th>0</th>\n",
       "      <td>Afghanistan</td>\n",
       "      <td>20136</td>\n",
       "      <td>14278.0</td>\n",
       "      <td>14501.0</td>\n",
       "      <td>17248.0</td>\n",
       "      <td>NaN</td>\n",
       "      <td>NaN</td>\n",
       "    </tr>\n",
       "    <tr>\n",
       "      <th>1</th>\n",
       "      <td>Albania</td>\n",
       "      <td>15271</td>\n",
       "      <td>18086.0</td>\n",
       "      <td>19185.0</td>\n",
       "      <td>23388.0</td>\n",
       "      <td>27259.0</td>\n",
       "      <td>28372.0</td>\n",
       "    </tr>\n",
       "    <tr>\n",
       "      <th>2</th>\n",
       "      <td>Algeria</td>\n",
       "      <td>164774</td>\n",
       "      <td>185850.0</td>\n",
       "      <td>225709.0</td>\n",
       "      <td>247789.0</td>\n",
       "      <td>264913.0</td>\n",
       "      <td>268885.0</td>\n",
       "    </tr>\n",
       "    <tr>\n",
       "      <th>3</th>\n",
       "      <td>Andorra</td>\n",
       "      <td>2885</td>\n",
       "      <td>3325.0</td>\n",
       "      <td>3376.0</td>\n",
       "      <td>3786.0</td>\n",
       "      <td>4038.0</td>\n",
       "      <td>4035.0</td>\n",
       "    </tr>\n",
       "    <tr>\n",
       "      <th>4</th>\n",
       "      <td>Angola</td>\n",
       "      <td>66521</td>\n",
       "      <td>84375.0</td>\n",
       "      <td>142442.0</td>\n",
       "      <td>109764.0</td>\n",
       "      <td>115946.0</td>\n",
       "      <td>113343.0</td>\n",
       "    </tr>\n",
       "  </tbody>\n",
       "</table>\n",
       "</div>"
      ],
      "text/plain": [
       "       Country    2020      2021      2022      2023      2024      2025\n",
       "0  Afghanistan   20136   14278.0   14501.0   17248.0       NaN       NaN\n",
       "1      Albania   15271   18086.0   19185.0   23388.0   27259.0   28372.0\n",
       "2      Algeria  164774  185850.0  225709.0  247789.0  264913.0  268885.0\n",
       "3      Andorra    2885    3325.0    3376.0    3786.0    4038.0    4035.0\n",
       "4       Angola   66521   84375.0  142442.0  109764.0  115946.0  113343.0"
      ]
     },
     "execution_count": 39,
     "metadata": {},
     "output_type": "execute_result"
    }
   ],
   "source": [
    "df.head(5)"
   ]
  },
  {
   "cell_type": "code",
   "execution_count": 41,
   "id": "8fd6e9e3-f9bf-44b5-9f5e-809f04ee7422",
   "metadata": {},
   "outputs": [],
   "source": [
    "df_long = df.melt(id_vars=[\"Country\"], \n",
    "                  value_vars=[str(y) for y in range(2020, 2026)],\n",
    "                  var_name=\"Year\", \n",
    "                  value_name=\"GDP\")"
   ]
  },
  {
   "cell_type": "code",
   "execution_count": 43,
   "id": "e5845f64-a804-4865-8ae5-e1938bfa48b4",
   "metadata": {},
   "outputs": [],
   "source": [
    "df_long[\"Year\"] = df_long[\"Year\"].astype(int)\n",
    "df_long[\"GDP\"] = pd.to_numeric(df_long[\"GDP\"], errors=\"coerce\")\n",
    "df_long = df_long.dropna()"
   ]
  },
  {
   "cell_type": "code",
   "execution_count": 45,
   "id": "1161cf41-a84b-4396-87b0-899431878d63",
   "metadata": {},
   "outputs": [
    {
     "data": {
      "text/html": [
       "<div>\n",
       "<style scoped>\n",
       "    .dataframe tbody tr th:only-of-type {\n",
       "        vertical-align: middle;\n",
       "    }\n",
       "\n",
       "    .dataframe tbody tr th {\n",
       "        vertical-align: top;\n",
       "    }\n",
       "\n",
       "    .dataframe thead th {\n",
       "        text-align: right;\n",
       "    }\n",
       "</style>\n",
       "<table border=\"1\" class=\"dataframe\">\n",
       "  <thead>\n",
       "    <tr style=\"text-align: right;\">\n",
       "      <th></th>\n",
       "      <th>Country</th>\n",
       "      <th>2020</th>\n",
       "      <th>2021</th>\n",
       "      <th>2022</th>\n",
       "      <th>2023</th>\n",
       "      <th>2024</th>\n",
       "      <th>2025</th>\n",
       "    </tr>\n",
       "  </thead>\n",
       "  <tbody>\n",
       "    <tr>\n",
       "      <th>0</th>\n",
       "      <td>Afghanistan</td>\n",
       "      <td>20136</td>\n",
       "      <td>14278.0</td>\n",
       "      <td>14501.0</td>\n",
       "      <td>17248.0</td>\n",
       "      <td>NaN</td>\n",
       "      <td>NaN</td>\n",
       "    </tr>\n",
       "    <tr>\n",
       "      <th>1</th>\n",
       "      <td>Albania</td>\n",
       "      <td>15271</td>\n",
       "      <td>18086.0</td>\n",
       "      <td>19185.0</td>\n",
       "      <td>23388.0</td>\n",
       "      <td>27259.0</td>\n",
       "      <td>28372.0</td>\n",
       "    </tr>\n",
       "    <tr>\n",
       "      <th>2</th>\n",
       "      <td>Algeria</td>\n",
       "      <td>164774</td>\n",
       "      <td>185850.0</td>\n",
       "      <td>225709.0</td>\n",
       "      <td>247789.0</td>\n",
       "      <td>264913.0</td>\n",
       "      <td>268885.0</td>\n",
       "    </tr>\n",
       "    <tr>\n",
       "      <th>3</th>\n",
       "      <td>Andorra</td>\n",
       "      <td>2885</td>\n",
       "      <td>3325.0</td>\n",
       "      <td>3376.0</td>\n",
       "      <td>3786.0</td>\n",
       "      <td>4038.0</td>\n",
       "      <td>4035.0</td>\n",
       "    </tr>\n",
       "    <tr>\n",
       "      <th>4</th>\n",
       "      <td>Angola</td>\n",
       "      <td>66521</td>\n",
       "      <td>84375.0</td>\n",
       "      <td>142442.0</td>\n",
       "      <td>109764.0</td>\n",
       "      <td>115946.0</td>\n",
       "      <td>113343.0</td>\n",
       "    </tr>\n",
       "  </tbody>\n",
       "</table>\n",
       "</div>"
      ],
      "text/plain": [
       "       Country    2020      2021      2022      2023      2024      2025\n",
       "0  Afghanistan   20136   14278.0   14501.0   17248.0       NaN       NaN\n",
       "1      Albania   15271   18086.0   19185.0   23388.0   27259.0   28372.0\n",
       "2      Algeria  164774  185850.0  225709.0  247789.0  264913.0  268885.0\n",
       "3      Andorra    2885    3325.0    3376.0    3786.0    4038.0    4035.0\n",
       "4       Angola   66521   84375.0  142442.0  109764.0  115946.0  113343.0"
      ]
     },
     "execution_count": 45,
     "metadata": {},
     "output_type": "execute_result"
    }
   ],
   "source": [
    "df.head(5)"
   ]
  },
  {
   "cell_type": "code",
   "execution_count": 47,
   "id": "cc0dcadd-810d-4287-bd82-06e8f13adafb",
   "metadata": {},
   "outputs": [
    {
     "name": "stdout",
     "output_type": "stream",
     "text": [
      "Years available: [2020 2021 2022 2023 2024 2025]\n",
      "Number of countries: 196\n"
     ]
    }
   ],
   "source": [
    "# Exploring the data\n",
    "print(\"Years available:\", df_long[\"Year\"].unique())\n",
    "print(\"Number of countries:\", df_long[\"Country\"].nunique())"
   ]
  },
  {
   "cell_type": "code",
   "execution_count": 69,
   "id": "6f1d957c-bec5-4116-ad53-8186127258f2",
   "metadata": {},
   "outputs": [
    {
     "name": "stdout",
     "output_type": "stream",
     "text": [
      "   Year          GDP\n",
      "0  2020   85826173.0\n",
      "1  2021   97843985.0\n",
      "2  2022  101948238.0\n",
      "3  2023  106431753.0\n",
      "4  2024  110531918.0\n",
      "5  2025  113237734.0\n"
     ]
    }
   ],
   "source": [
    "world_gdp = df_long.groupby(\"Year\")[\"GDP\"].sum().reset_index()\n",
    "print(world_gdp)"
   ]
  },
  {
   "cell_type": "code",
   "execution_count": 51,
   "id": "c1f917b1-4670-4588-a5d8-f8ce72eac283",
   "metadata": {},
   "outputs": [],
   "source": [
    "# Top 10 economies in 2025\n",
    "top10_2025 = (df_long[df_long[\"Year\"]==2025].sort_values(\"GDP\", ascending=False).head(10))"
   ]
  },
  {
   "cell_type": "code",
   "execution_count": 53,
   "id": "1362d24f-3a09-485c-b7e6-ed355953417d",
   "metadata": {},
   "outputs": [
    {
     "data": {
      "text/html": [
       "<div>\n",
       "<style scoped>\n",
       "    .dataframe tbody tr th:only-of-type {\n",
       "        vertical-align: middle;\n",
       "    }\n",
       "\n",
       "    .dataframe tbody tr th {\n",
       "        vertical-align: top;\n",
       "    }\n",
       "\n",
       "    .dataframe thead th {\n",
       "        text-align: right;\n",
       "    }\n",
       "</style>\n",
       "<table border=\"1\" class=\"dataframe\">\n",
       "  <thead>\n",
       "    <tr style=\"text-align: right;\">\n",
       "      <th></th>\n",
       "      <th>Country</th>\n",
       "      <th>Year</th>\n",
       "      <th>GDP</th>\n",
       "    </tr>\n",
       "  </thead>\n",
       "  <tbody>\n",
       "    <tr>\n",
       "      <th>1166</th>\n",
       "      <td>United States</td>\n",
       "      <td>2025</td>\n",
       "      <td>30507217.0</td>\n",
       "    </tr>\n",
       "    <tr>\n",
       "      <th>1016</th>\n",
       "      <td>China</td>\n",
       "      <td>2025</td>\n",
       "      <td>19231705.0</td>\n",
       "    </tr>\n",
       "    <tr>\n",
       "      <th>1044</th>\n",
       "      <td>Germany</td>\n",
       "      <td>2025</td>\n",
       "      <td>4744804.0</td>\n",
       "    </tr>\n",
       "    <tr>\n",
       "      <th>1057</th>\n",
       "      <td>India</td>\n",
       "      <td>2025</td>\n",
       "      <td>4187017.0</td>\n",
       "    </tr>\n",
       "    <tr>\n",
       "      <th>1065</th>\n",
       "      <td>Japan</td>\n",
       "      <td>2025</td>\n",
       "      <td>4186431.0</td>\n",
       "    </tr>\n",
       "    <tr>\n",
       "      <th>1165</th>\n",
       "      <td>United Kingdom</td>\n",
       "      <td>2025</td>\n",
       "      <td>3839180.0</td>\n",
       "    </tr>\n",
       "    <tr>\n",
       "      <th>1040</th>\n",
       "      <td>France</td>\n",
       "      <td>2025</td>\n",
       "      <td>3211292.0</td>\n",
       "    </tr>\n",
       "    <tr>\n",
       "      <th>1063</th>\n",
       "      <td>Italy</td>\n",
       "      <td>2025</td>\n",
       "      <td>2422855.0</td>\n",
       "    </tr>\n",
       "    <tr>\n",
       "      <th>1012</th>\n",
       "      <td>Canada</td>\n",
       "      <td>2025</td>\n",
       "      <td>2225341.0</td>\n",
       "    </tr>\n",
       "    <tr>\n",
       "      <th>1004</th>\n",
       "      <td>Brazil</td>\n",
       "      <td>2025</td>\n",
       "      <td>2125958.0</td>\n",
       "    </tr>\n",
       "  </tbody>\n",
       "</table>\n",
       "</div>"
      ],
      "text/plain": [
       "             Country  Year         GDP\n",
       "1166   United States  2025  30507217.0\n",
       "1016           China  2025  19231705.0\n",
       "1044         Germany  2025   4744804.0\n",
       "1057           India  2025   4187017.0\n",
       "1065           Japan  2025   4186431.0\n",
       "1165  United Kingdom  2025   3839180.0\n",
       "1040          France  2025   3211292.0\n",
       "1063           Italy  2025   2422855.0\n",
       "1012          Canada  2025   2225341.0\n",
       "1004          Brazil  2025   2125958.0"
      ]
     },
     "execution_count": 53,
     "metadata": {},
     "output_type": "execute_result"
    }
   ],
   "source": [
    "top10_2025"
   ]
  },
  {
   "cell_type": "code",
   "execution_count": 57,
   "id": "570fc10c-6845-4158-903b-6c6a5dbc146e",
   "metadata": {},
   "outputs": [],
   "source": [
    "# Growth (2020 → 2025)\n",
    "growth = (\n",
    "    df_long.pivot(index=\"Country\", columns=\"Year\", values=\"GDP\")\n",
    "    .reset_index())\n",
    "growth[\"Growth_%\"] = (growth[2025] - growth[2020]) / growth[2020] * 100\n",
    "fastest = growth.sort_values(\"Growth_%\", ascending=False).head(5)"
   ]
  },
  {
   "cell_type": "code",
   "execution_count": 59,
   "id": "714f03a3-f63b-4c8e-b9e8-121584ee6187",
   "metadata": {},
   "outputs": [
    {
     "data": {
      "text/html": [
       "<div>\n",
       "<style scoped>\n",
       "    .dataframe tbody tr th:only-of-type {\n",
       "        vertical-align: middle;\n",
       "    }\n",
       "\n",
       "    .dataframe tbody tr th {\n",
       "        vertical-align: top;\n",
       "    }\n",
       "\n",
       "    .dataframe thead th {\n",
       "        text-align: right;\n",
       "    }\n",
       "</style>\n",
       "<table border=\"1\" class=\"dataframe\">\n",
       "  <thead>\n",
       "    <tr style=\"text-align: right;\">\n",
       "      <th>Year</th>\n",
       "      <th>Country</th>\n",
       "      <th>2020</th>\n",
       "      <th>2021</th>\n",
       "      <th>2022</th>\n",
       "      <th>2023</th>\n",
       "      <th>2024</th>\n",
       "      <th>2025</th>\n",
       "      <th>Growth_%</th>\n",
       "    </tr>\n",
       "  </thead>\n",
       "  <tbody>\n",
       "    <tr>\n",
       "      <th>70</th>\n",
       "      <td>Guyana</td>\n",
       "      <td>5471.0</td>\n",
       "      <td>8041.0</td>\n",
       "      <td>14718.0</td>\n",
       "      <td>16919.0</td>\n",
       "      <td>24659.0</td>\n",
       "      <td>25822.0</td>\n",
       "      <td>371.979528</td>\n",
       "    </tr>\n",
       "    <tr>\n",
       "      <th>191</th>\n",
       "      <td>Venezuela</td>\n",
       "      <td>42838.0</td>\n",
       "      <td>56615.0</td>\n",
       "      <td>89013.0</td>\n",
       "      <td>102377.0</td>\n",
       "      <td>119808.0</td>\n",
       "      <td>108511.0</td>\n",
       "      <td>153.305476</td>\n",
       "    </tr>\n",
       "    <tr>\n",
       "      <th>92</th>\n",
       "      <td>Kyrgyzstan</td>\n",
       "      <td>8283.0</td>\n",
       "      <td>9256.0</td>\n",
       "      <td>12269.0</td>\n",
       "      <td>15187.0</td>\n",
       "      <td>17491.0</td>\n",
       "      <td>19849.0</td>\n",
       "      <td>139.635398</td>\n",
       "    </tr>\n",
       "    <tr>\n",
       "      <th>71</th>\n",
       "      <td>Haiti</td>\n",
       "      <td>14508.0</td>\n",
       "      <td>21017.0</td>\n",
       "      <td>19826.0</td>\n",
       "      <td>19603.0</td>\n",
       "      <td>26229.0</td>\n",
       "      <td>33548.0</td>\n",
       "      <td>131.237938</td>\n",
       "    </tr>\n",
       "    <tr>\n",
       "      <th>62</th>\n",
       "      <td>Georgia</td>\n",
       "      <td>16013.0</td>\n",
       "      <td>18849.0</td>\n",
       "      <td>24985.0</td>\n",
       "      <td>30778.0</td>\n",
       "      <td>33775.0</td>\n",
       "      <td>35353.0</td>\n",
       "      <td>120.776869</td>\n",
       "    </tr>\n",
       "  </tbody>\n",
       "</table>\n",
       "</div>"
      ],
      "text/plain": [
       "Year     Country     2020     2021     2022      2023      2024      2025  \\\n",
       "70        Guyana   5471.0   8041.0  14718.0   16919.0   24659.0   25822.0   \n",
       "191    Venezuela  42838.0  56615.0  89013.0  102377.0  119808.0  108511.0   \n",
       "92    Kyrgyzstan   8283.0   9256.0  12269.0   15187.0   17491.0   19849.0   \n",
       "71         Haiti  14508.0  21017.0  19826.0   19603.0   26229.0   33548.0   \n",
       "62       Georgia  16013.0  18849.0  24985.0   30778.0   33775.0   35353.0   \n",
       "\n",
       "Year    Growth_%  \n",
       "70    371.979528  \n",
       "191   153.305476  \n",
       "92    139.635398  \n",
       "71    131.237938  \n",
       "62    120.776869  "
      ]
     },
     "execution_count": 59,
     "metadata": {},
     "output_type": "execute_result"
    }
   ],
   "source": [
    "fastest"
   ]
  },
  {
   "cell_type": "code",
   "execution_count": 71,
   "id": "0586113a-67eb-48d4-baf6-df5be565a164",
   "metadata": {},
   "outputs": [
    {
     "data": {
      "image/png": "[encoded data removed]",
      "text/plain": [
       "<Figure size 640x480 with 1 Axes>"
      ]
     },
     "metadata": {},
     "output_type": "display_data"
    }
   ],
   "source": [
    "# Global GDP trend\n",
    "plt.plot(world_gdp[\"Year\"], world_gdp[\"GDP\"], marker=\"o\")\n",
    "plt.title(\"Global GDP Trend (2020–2025)\")\n",
    "plt.xlabel(\"Year\")\n",
    "plt.ylabel(\"GDP (Trillions USD)\")\n",
    "plt.show()"
   ]
  },
  {
   "cell_type": "code",
   "execution_count": 73,
   "id": "567ba31d-d1bc-4d7d-b596-23e7e09660a3",
   "metadata": {},
   "outputs": [
    {
     "data": {
      "image/png": "[encoded data removed]",
      "text/plain": [
       "<Figure size 640x480 with 1 Axes>"
      ]
     },
     "metadata": {},
     "output_type": "display_data"
    }
   ],
   "source": [
    "# Top 10 economies in 2025\n",
    "top10_2025.plot(x=\"Country\", y=\"GDP\", kind=\"barh\", title=\"Top 10 Economies (2025)\")\n",
    "plt.show()"
   ]
  },
  {
   "cell_type": "code",
   "execution_count": null,
   "id": "a3e3bb3a-6140-444d-8def-cd0fea300622",
   "metadata": {},
   "outputs": [],
   "source": []
  }
 ],
 "metadata": {
  "kernelspec": {
   "display_name": "Python 3 (ipykernel)",
   "language": "python",
   "name": "python3"
  },
  "language_info": {
   "codemirror_mode": {
    "name": "ipython",
    "version": 3
   },
   "file_extension": ".py",
   "mimetype": "text/x-python",
   "name": "python",
   "nbconvert_exporter": "python",
   "pygments_lexer": "ipython3",
   "version": "3.12.4"
  }
 },
 "nbformat": 4,
 "nbformat_minor": 5
}
